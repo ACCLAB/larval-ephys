{
 "cells": [
  {
   "cell_type": "code",
   "execution_count": 2,
   "metadata": {
    "ExecuteTime": {
     "end_time": "2016-10-03T12:30:54.073560",
     "start_time": "2016-10-03T12:30:49.651671"
    },
    "collapsed": false
   },
   "outputs": [],
   "source": [
    "import pandas as pd\n",
    "import os"
   ]
  },
  {
   "cell_type": "code",
   "execution_count": 10,
   "metadata": {
    "ExecuteTime": {
     "end_time": "2016-10-03T12:33:41.892041",
     "start_time": "2016-10-03T12:33:41.269049"
    },
    "collapsed": false,
    "scrolled": true
   },
   "outputs": [],
   "source": [
    "five003 = pd.read_csv(\"/Users/josesho/Google Drive/ACC Lab/ACR/2016-09-25&26 Larval nerve/ATF_files/500ms_LED/16925003.atf\",\n",
    "           sep = '\\t', skiprows = range(0,10), index_col = 'Time (s)')"
   ]
  },
  {
   "cell_type": "code",
   "execution_count": 11,
   "metadata": {
    "ExecuteTime": {
     "end_time": "2016-10-03T12:33:55.666669",
     "start_time": "2016-10-03T12:33:55.482099"
    },
    "collapsed": true
   },
   "outputs": [],
   "source": [
    "five005 = pd.read_csv(\"/Users/josesho/Google Drive/ACC Lab/ACR/2016-09-25&26 Larval nerve/ATF_files/500ms_LED/16925005.atf\",\n",
    "           sep = '\\t', skiprows = range(0,10), index_col = 'Time (s)')"
   ]
  },
  {
   "cell_type": "code",
   "execution_count": 12,
   "metadata": {
    "ExecuteTime": {
     "end_time": "2016-10-03T12:34:00.932271",
     "start_time": "2016-10-03T12:34:00.926925"
    },
    "collapsed": false
   },
   "outputs": [
    {
     "data": {
      "text/plain": [
       "900000"
      ]
     },
     "execution_count": 12,
     "metadata": {},
     "output_type": "execute_result"
    }
   ],
   "source": [
    "len(five003)"
   ]
  },
  {
   "cell_type": "code",
   "execution_count": 13,
   "metadata": {
    "ExecuteTime": {
     "end_time": "2016-10-03T12:34:04.892395",
     "start_time": "2016-10-03T12:34:04.887150"
    },
    "collapsed": false
   },
   "outputs": [
    {
     "data": {
      "text/plain": [
       "100000"
      ]
     },
     "execution_count": 13,
     "metadata": {},
     "output_type": "execute_result"
    }
   ],
   "source": [
    "len(five005)"
   ]
  },
  {
   "cell_type": "code",
   "execution_count": null,
   "metadata": {
    "collapsed": true
   },
   "outputs": [],
   "source": []
  }
 ],
 "metadata": {
  "kernelspec": {
   "display_name": "Python 3",
   "language": "python",
   "name": "python3"
  },
  "language_info": {
   "codemirror_mode": {
    "name": "ipython",
    "version": 3
   },
   "file_extension": ".py",
   "mimetype": "text/x-python",
   "name": "python",
   "nbconvert_exporter": "python",
   "pygments_lexer": "ipython3",
   "version": "3.4.3"
  }
 },
 "nbformat": 4,
 "nbformat_minor": 0
}
